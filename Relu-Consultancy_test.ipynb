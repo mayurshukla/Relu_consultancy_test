{
 "cells": [
  {
   "cell_type": "markdown",
   "id": "ba97935b",
   "metadata": {},
   "source": [
    "# 1. Scrape all video URLs uploaded by the T-Series YouTube channel within the specified date range."
   ]
  },
  {
   "cell_type": "code",
   "execution_count": 18,
   "id": "eee2eb02",
   "metadata": {},
   "outputs": [
    {
     "name": "stdout",
     "output_type": "stream",
     "text": [
      "['https://www.youtube.com/watch?v=qXEqLWgg9UY', 'https://www.youtube.com/watch?v=nhb4lCCKKjk', 'https://www.youtube.com/watch?v=kfSSwxS9aOs', 'https://www.youtube.com/watch?v=CO0YM4m5-hc', 'https://www.youtube.com/watch?v=NIKwvL4b0uE', 'https://www.youtube.com/watch?v=mZ-9dul2wak', 'https://www.youtube.com/watch?v=b2HqYOYTCgE', 'https://www.youtube.com/watch?v=nuaxkTOSPX8', 'https://www.youtube.com/watch?v=rIKSCTMIoss', 'https://www.youtube.com/watch?v=z0vOhkzefCE', 'https://www.youtube.com/watch?v=OdzSxyowu7s', 'https://www.youtube.com/watch?v=0GS_pfG-yaE', 'https://www.youtube.com/watch?v=5X6CNliwiAM', 'https://www.youtube.com/watch?v=xrsqaB3kwp0', 'https://www.youtube.com/watch?v=0ZfJUjtEeG8', 'https://www.youtube.com/watch?v=3ihp0OpjD04', 'https://www.youtube.com/watch?v=I-_LHvTeVy4', 'https://www.youtube.com/watch?v=xOHejhEwMDY', 'https://www.youtube.com/watch?v=AponoBIY3BU', 'https://www.youtube.com/watch?v=nCMpesZUIWA', 'https://www.youtube.com/watch?v=zNfc-q_BF-8', 'https://www.youtube.com/watch?v=IUffiaUue-U', 'https://www.youtube.com/watch?v=PEI3tn_0Smg', 'https://www.youtube.com/watch?v=2xg_luaPSnQ', 'https://www.youtube.com/watch?v=qs-Kvkds1ks', 'https://www.youtube.com/watch?v=AQEc4BwX6dk', 'https://www.youtube.com/watch?v=5rOqzd3KC5o', 'https://www.youtube.com/watch?v=UiUBPysceNY', 'https://www.youtube.com/watch?v=eG40RRp0Zas', 'https://www.youtube.com/watch?v=fKfqHDdWKKU', 'https://www.youtube.com/watch?v=BwhM9RMDL_4', 'https://www.youtube.com/watch?v=YsCeMprm2O0', 'https://www.youtube.com/watch?v=46QxVICzPB8', 'https://www.youtube.com/watch?v=VT5i6p1w0B0', 'https://www.youtube.com/watch?v=T0d8uvpXq9I', 'https://www.youtube.com/watch?v=EpdsVO9pt9g', 'https://www.youtube.com/watch?v=4-30eu39wRM', 'https://www.youtube.com/watch?v=2SuNLFYD41A', 'https://www.youtube.com/watch?v=Cybo2U_d0Xs', 'https://www.youtube.com/watch?v=Dm0Y_x6bOaQ', 'https://www.youtube.com/watch?v=8gbrGt4hbjc', 'https://www.youtube.com/watch?v=FkgnpnzeKx0', 'https://www.youtube.com/watch?v=IXa3sId1iF4', 'https://www.youtube.com/watch?v=OD1LhUu4bRI', 'https://www.youtube.com/watch?v=KbjwyBaz6Fs', 'https://www.youtube.com/watch?v=rB5QPIP5H6k', 'https://www.youtube.com/watch?v=uSb0M_UQE1o', 'https://www.youtube.com/watch?v=WzuIcK4IxA0', 'https://www.youtube.com/watch?v=VQ4javkA4MQ']\n"
     ]
    }
   ],
   "source": [
    "import requests\n",
    "\n",
    "API_KEY = '' # HIDING MY YOU TUBE DATA API\n",
    "CHANNEL_ID = 'UCq-Fj5jknLsUf-MWSy4_brA'  # T-Series channel ID\n",
    "\n",
    "start_date = \"2023-05-22T00:00:00Z\"\n",
    "end_date = \"2023-08-08T23:59:59Z\"\n",
    "\n",
    "URL = f\"https://www.googleapis.com/youtube/v3/search?key={API_KEY}&channelId={CHANNEL_ID}&part=snippet,id&order=date&maxResults=50&publishedAfter={start_date}&publishedBefore={end_date}\"\n",
    "\n",
    "videos = []\n",
    "\n",
    "# Fetch the video details\n",
    "response = requests.get(URL)\n",
    "result = response.json()\n",
    "\n",
    "# Iterate through items and get video links\n",
    "for item in result['items']:\n",
    "    if item['id']['kind'] == 'youtube#video':  # To ensure the item is a video\n",
    "        video_id = item['id']['videoId']\n",
    "        video_link = f\"https://www.youtube.com/watch?v={video_id}\"\n",
    "        videos.append(video_link)\n",
    "\n",
    "print(videos)\n"
   ]
  },
  {
   "cell_type": "markdown",
   "id": "ec6f8c70",
   "metadata": {},
   "source": [
    "# 2 For each video URL, extract the exact upload date in the format \"Month Day, Year\" (e.g., \"August 8, 2023\")."
   ]
  },
  {
   "cell_type": "code",
   "execution_count": 19,
   "id": "0f429754",
   "metadata": {},
   "outputs": [],
   "source": [
    "# defining a functiuon to get upload date using You Tube Data Api\n",
    "\n",
    "import requests\n",
    "\n",
    "def get_upload_date(api_key, video_id):\n",
    "    base_url = \"https://www.googleapis.com/youtube/v3/videos\"\n",
    "    params = {\n",
    "        \"id\": video_id,\n",
    "        \"key\": api_key,\n",
    "        \"part\": \"snippet\"\n",
    "    }\n",
    "    \n",
    "    response = requests.get(base_url, params=params)\n",
    "    data = response.json()\n",
    "    \n",
    "    # Extract the upload date from the video's snippet\n",
    "    upload_date = data['items'][0]['snippet']['publishedAt']\n",
    "    \n",
    "    return upload_date\n"
   ]
  },
  {
   "cell_type": "code",
   "execution_count": 20,
   "id": "e247f850",
   "metadata": {},
   "outputs": [],
   "source": [
    "# Defing a funtion to extract video ID from URL using request\n",
    "\n",
    "import re\n",
    "\n",
    "def extract_video_id_from_url_regex(url):\n",
    "    # Regular expression to match YouTube video IDs\n",
    "    video_id_match = re.search(r\"v=([0-9A-Za-z_-]{10}[048AEIMQUYcgkosw])\", url)\n",
    "    if video_id_match:\n",
    "        return video_id_match.group(1)\n",
    "    return None\n"
   ]
  },
  {
   "cell_type": "code",
   "execution_count": 21,
   "id": "08998716",
   "metadata": {},
   "outputs": [],
   "source": [
    "# MAking list of video_id and upload date  \n",
    "\n",
    "UPLOAD_DATES=[]\n",
    "VIDEO_IDS=[]\n",
    "for i in range(len(videos)):\n",
    "    UPLOAD_DATES.append(get_upload_date(API_KEY, extract_video_id_from_url_regex(videos[i])))\n",
    "    VIDEO_IDS.append(extract_video_id_from_url_regex(videos[i]))"
   ]
  },
  {
   "cell_type": "code",
   "execution_count": 22,
   "id": "61aaec96",
   "metadata": {},
   "outputs": [
    {
     "data": {
      "text/plain": [
       "['2023-08-08T10:30:16Z',\n",
       " '2023-08-08T09:30:13Z',\n",
       " '2023-08-08T03:29:07Z',\n",
       " '2023-08-07T15:00:07Z',\n",
       " '2023-08-07T14:30:08Z',\n",
       " '2023-08-07T12:00:39Z',\n",
       " '2023-08-07T06:49:14Z',\n",
       " '2023-08-06T12:30:25Z',\n",
       " '2023-08-06T09:30:13Z',\n",
       " '2023-08-06T05:30:18Z',\n",
       " '2023-08-05T15:00:30Z',\n",
       " '2023-08-05T13:33:34Z',\n",
       " '2023-08-05T13:22:20Z',\n",
       " '2023-08-05T11:31:56Z',\n",
       " '2023-08-05T07:30:00Z',\n",
       " '2023-08-04T11:00:03Z',\n",
       " '2023-08-04T05:29:12Z',\n",
       " '2023-08-03T13:00:51Z',\n",
       " '2023-08-03T12:40:18Z',\n",
       " '2023-08-02T08:32:38Z',\n",
       " '2023-08-02T05:30:17Z',\n",
       " '2023-08-01T14:00:11Z',\n",
       " '2023-08-01T13:06:41Z',\n",
       " '2023-08-01T11:30:02Z',\n",
       " '2023-08-01T08:30:25Z',\n",
       " '2023-07-31T07:19:08Z',\n",
       " '2023-07-31T06:25:42Z',\n",
       " '2023-07-31T03:29:09Z',\n",
       " '2023-07-29T15:30:08Z',\n",
       " '2023-07-29T12:30:31Z',\n",
       " '2023-07-29T11:20:01Z',\n",
       " '2023-07-29T09:30:08Z',\n",
       " '2023-07-29T07:30:00Z',\n",
       " '2023-07-29T06:07:31Z',\n",
       " '2023-07-29T05:30:12Z',\n",
       " '2023-07-28T14:30:04Z',\n",
       " '2023-07-28T05:29:08Z',\n",
       " '2023-07-26T14:45:00Z',\n",
       " '2023-07-26T14:15:02Z',\n",
       " '2023-07-26T13:50:00Z',\n",
       " '2023-07-26T13:45:01Z',\n",
       " '2023-07-26T13:40:00Z',\n",
       " '2023-07-25T09:30:09Z',\n",
       " '2023-07-25T05:30:08Z',\n",
       " '2023-07-24T11:31:55Z',\n",
       " '2023-07-24T06:30:09Z',\n",
       " '2023-07-24T03:30:12Z',\n",
       " '2023-07-23T13:30:17Z',\n",
       " '2023-07-23T08:30:13Z']"
      ]
     },
     "execution_count": 22,
     "metadata": {},
     "output_type": "execute_result"
    }
   ],
   "source": [
    "UPLOAD_DATES"
   ]
  },
  {
   "cell_type": "code",
   "execution_count": 23,
   "id": "2258de02",
   "metadata": {},
   "outputs": [
    {
     "name": "stdout",
     "output_type": "stream",
     "text": [
      "['August 08, 2023', 'August 08, 2023', 'August 08, 2023', 'August 07, 2023', 'August 07, 2023', 'August 07, 2023', 'August 07, 2023', 'August 06, 2023', 'August 06, 2023', 'August 06, 2023', 'August 05, 2023', 'August 05, 2023', 'August 05, 2023', 'August 05, 2023', 'August 05, 2023', 'August 04, 2023', 'August 04, 2023', 'August 03, 2023', 'August 03, 2023', 'August 02, 2023', 'August 02, 2023', 'August 01, 2023', 'August 01, 2023', 'August 01, 2023', 'August 01, 2023', 'July 31, 2023', 'July 31, 2023', 'July 31, 2023', 'July 29, 2023', 'July 29, 2023', 'July 29, 2023', 'July 29, 2023', 'July 29, 2023', 'July 29, 2023', 'July 29, 2023', 'July 28, 2023', 'July 28, 2023', 'July 26, 2023', 'July 26, 2023', 'July 26, 2023', 'July 26, 2023', 'July 26, 2023', 'July 25, 2023', 'July 25, 2023', 'July 24, 2023', 'July 24, 2023', 'July 24, 2023', 'July 23, 2023', 'July 23, 2023']\n"
     ]
    }
   ],
   "source": [
    "# converting upload date in required format\n",
    "\n",
    "\n",
    "from datetime import datetime\n",
    "\n",
    "def convert_rfc3339_to_custom_format(rfc_date):\n",
    "    # Parse the RFC 3339 formatted date\n",
    "    date_obj = datetime.fromisoformat(rfc_date.replace(\"Z\", \"+00:00\"))\n",
    "    \n",
    "    # Convert to the desired format\n",
    "    return date_obj.strftime('%B %d, %Y')\n",
    "\n",
    "# Convert the list\n",
    "converted_dates = [convert_rfc3339_to_custom_format(date) for date in UPLOAD_DATES]\n",
    "\n",
    "print(converted_dates)  # Outputs: ['May 22, 2023', 'August 08, 2023']\n"
   ]
  },
  {
   "cell_type": "markdown",
   "id": "688409d7",
   "metadata": {},
   "source": [
    "# 3 Collect all unique upload dates and the corresponding video URLs."
   ]
  },
  {
   "cell_type": "code",
   "execution_count": 24,
   "id": "24356a7d",
   "metadata": {},
   "outputs": [],
   "source": [
    "# zipping the urls with their upload date and creating key value pairs\n",
    "\n",
    "result = dict(zip(videos, converted_dates))"
   ]
  },
  {
   "cell_type": "code",
   "execution_count": 25,
   "id": "0038dde0",
   "metadata": {},
   "outputs": [
    {
     "data": {
      "text/plain": [
       "{'https://www.youtube.com/watch?v=qXEqLWgg9UY': 'August 08, 2023',\n",
       " 'https://www.youtube.com/watch?v=nhb4lCCKKjk': 'August 08, 2023',\n",
       " 'https://www.youtube.com/watch?v=kfSSwxS9aOs': 'August 08, 2023',\n",
       " 'https://www.youtube.com/watch?v=CO0YM4m5-hc': 'August 07, 2023',\n",
       " 'https://www.youtube.com/watch?v=NIKwvL4b0uE': 'August 07, 2023',\n",
       " 'https://www.youtube.com/watch?v=mZ-9dul2wak': 'August 07, 2023',\n",
       " 'https://www.youtube.com/watch?v=b2HqYOYTCgE': 'August 07, 2023',\n",
       " 'https://www.youtube.com/watch?v=nuaxkTOSPX8': 'August 06, 2023',\n",
       " 'https://www.youtube.com/watch?v=rIKSCTMIoss': 'August 06, 2023',\n",
       " 'https://www.youtube.com/watch?v=z0vOhkzefCE': 'August 06, 2023',\n",
       " 'https://www.youtube.com/watch?v=OdzSxyowu7s': 'August 05, 2023',\n",
       " 'https://www.youtube.com/watch?v=0GS_pfG-yaE': 'August 05, 2023',\n",
       " 'https://www.youtube.com/watch?v=5X6CNliwiAM': 'August 05, 2023',\n",
       " 'https://www.youtube.com/watch?v=xrsqaB3kwp0': 'August 05, 2023',\n",
       " 'https://www.youtube.com/watch?v=0ZfJUjtEeG8': 'August 05, 2023',\n",
       " 'https://www.youtube.com/watch?v=3ihp0OpjD04': 'August 04, 2023',\n",
       " 'https://www.youtube.com/watch?v=I-_LHvTeVy4': 'August 04, 2023',\n",
       " 'https://www.youtube.com/watch?v=xOHejhEwMDY': 'August 03, 2023',\n",
       " 'https://www.youtube.com/watch?v=AponoBIY3BU': 'August 03, 2023',\n",
       " 'https://www.youtube.com/watch?v=nCMpesZUIWA': 'August 02, 2023',\n",
       " 'https://www.youtube.com/watch?v=zNfc-q_BF-8': 'August 02, 2023',\n",
       " 'https://www.youtube.com/watch?v=IUffiaUue-U': 'August 01, 2023',\n",
       " 'https://www.youtube.com/watch?v=PEI3tn_0Smg': 'August 01, 2023',\n",
       " 'https://www.youtube.com/watch?v=2xg_luaPSnQ': 'August 01, 2023',\n",
       " 'https://www.youtube.com/watch?v=qs-Kvkds1ks': 'August 01, 2023',\n",
       " 'https://www.youtube.com/watch?v=AQEc4BwX6dk': 'July 31, 2023',\n",
       " 'https://www.youtube.com/watch?v=5rOqzd3KC5o': 'July 31, 2023',\n",
       " 'https://www.youtube.com/watch?v=UiUBPysceNY': 'July 31, 2023',\n",
       " 'https://www.youtube.com/watch?v=eG40RRp0Zas': 'July 29, 2023',\n",
       " 'https://www.youtube.com/watch?v=fKfqHDdWKKU': 'July 29, 2023',\n",
       " 'https://www.youtube.com/watch?v=BwhM9RMDL_4': 'July 29, 2023',\n",
       " 'https://www.youtube.com/watch?v=YsCeMprm2O0': 'July 29, 2023',\n",
       " 'https://www.youtube.com/watch?v=46QxVICzPB8': 'July 29, 2023',\n",
       " 'https://www.youtube.com/watch?v=VT5i6p1w0B0': 'July 29, 2023',\n",
       " 'https://www.youtube.com/watch?v=T0d8uvpXq9I': 'July 29, 2023',\n",
       " 'https://www.youtube.com/watch?v=EpdsVO9pt9g': 'July 28, 2023',\n",
       " 'https://www.youtube.com/watch?v=4-30eu39wRM': 'July 28, 2023',\n",
       " 'https://www.youtube.com/watch?v=2SuNLFYD41A': 'July 26, 2023',\n",
       " 'https://www.youtube.com/watch?v=Cybo2U_d0Xs': 'July 26, 2023',\n",
       " 'https://www.youtube.com/watch?v=Dm0Y_x6bOaQ': 'July 26, 2023',\n",
       " 'https://www.youtube.com/watch?v=8gbrGt4hbjc': 'July 26, 2023',\n",
       " 'https://www.youtube.com/watch?v=FkgnpnzeKx0': 'July 26, 2023',\n",
       " 'https://www.youtube.com/watch?v=IXa3sId1iF4': 'July 25, 2023',\n",
       " 'https://www.youtube.com/watch?v=OD1LhUu4bRI': 'July 25, 2023',\n",
       " 'https://www.youtube.com/watch?v=KbjwyBaz6Fs': 'July 24, 2023',\n",
       " 'https://www.youtube.com/watch?v=rB5QPIP5H6k': 'July 24, 2023',\n",
       " 'https://www.youtube.com/watch?v=uSb0M_UQE1o': 'July 24, 2023',\n",
       " 'https://www.youtube.com/watch?v=WzuIcK4IxA0': 'July 23, 2023',\n",
       " 'https://www.youtube.com/watch?v=VQ4javkA4MQ': 'July 23, 2023'}"
      ]
     },
     "execution_count": 25,
     "metadata": {},
     "output_type": "execute_result"
    }
   ],
   "source": [
    "result"
   ]
  },
  {
   "cell_type": "markdown",
   "id": "5a9c79ab",
   "metadata": {},
   "source": [
    "# 4 Perform a case-insensitive search to find and count the most frequently repeated character in the video URLs Video ID.\n"
   ]
  },
  {
   "cell_type": "code",
   "execution_count": 36,
   "id": "09d2afb5",
   "metadata": {},
   "outputs": [
    {
     "name": "stdout",
     "output_type": "stream",
     "text": [
      "Most repeated character(s): 0\n",
      "Count: 21\n"
     ]
    }
   ],
   "source": [
    "def most_repeated_character(strings):\n",
    "    # Combine all strings into a single string\n",
    "    combined_string = ''.join(strings)\n",
    "    \n",
    "    # Count characters\n",
    "    char_count = {}\n",
    "    for char in combined_string:\n",
    "        char_count[char] = char_count.get(char, 0) + 1\n",
    "\n",
    "    # Find the character(s) with the maximum count\n",
    "    max_count = max(char_count.values())\n",
    "    most_repeated_chars = [char for char, count in char_count.items() if count == max_count]\n",
    "\n",
    "    return most_repeated_chars, max_count\n",
    "\n",
    "\n",
    "chars, count = most_repeated_character(VIDEO_IDS)\n",
    "\n",
    "print(f\"Most repeated character(s): {', '.join(chars)}\")\n",
    "print(f\"Count: {count}\")\n"
   ]
  },
  {
   "cell_type": "markdown",
   "id": "bfde9735",
   "metadata": {},
   "source": [
    "# 5 Print the most repeated character and its count."
   ]
  },
  {
   "cell_type": "code",
   "execution_count": 38,
   "id": "2daea2bd",
   "metadata": {},
   "outputs": [],
   "source": [
    "def most_repeated_character(strings):\n",
    "    # Combine all strings into a single string\n",
    "    combined_string = ''.join(strings)\n",
    "    \n",
    "    # Count characters\n",
    "    char_count = {}\n",
    "    for char in combined_string:\n",
    "        char_count[char] = char_count.get(char, 0) + 1\n",
    "    sorted_data = {k: v for k, v in sorted(char_count.items(), key=lambda item: item[1], reverse=True)}\n",
    "\n",
    "    return sorted_data"
   ]
  },
  {
   "cell_type": "code",
   "execution_count": 39,
   "id": "b8b066df",
   "metadata": {},
   "outputs": [],
   "source": [
    "D=most_repeated_character(VIDEO_IDS)"
   ]
  },
  {
   "cell_type": "code",
   "execution_count": 41,
   "id": "55207d82",
   "metadata": {},
   "outputs": [
    {
     "name": "stdout",
     "output_type": "stream",
     "text": [
      "key: 0 Value: 21\n",
      "key: 4 Value: 17\n",
      "key: s Value: 16\n",
      "key: I Value: 16\n",
      "key: U Value: 13\n",
      "key: O Value: 13\n",
      "key: p Value: 13\n",
      "key: C Value: 12\n",
      "key: K Value: 12\n",
      "key: k Value: 12\n",
      "key: w Value: 12\n",
      "key: a Value: 12\n",
      "key: u Value: 12\n",
      "key: E Value: 11\n",
      "key: S Value: 11\n",
      "key: M Value: 11\n",
      "key: e Value: 11\n",
      "key: B Value: 11\n",
      "key: Y Value: 10\n",
      "key: b Value: 10\n",
      "key: x Value: 10\n",
      "key: d Value: 10\n",
      "key: q Value: 9\n",
      "key: f Value: 9\n",
      "key: - Value: 9\n",
      "key: z Value: 9\n",
      "key: _ Value: 9\n",
      "key: g Value: 8\n",
      "key: 9 Value: 8\n",
      "key: n Value: 8\n",
      "key: h Value: 8\n",
      "key: 3 Value: 8\n",
      "key: Q Value: 8\n",
      "key: X Value: 7\n",
      "key: j Value: 7\n",
      "key: 5 Value: 7\n",
      "key: P Value: 7\n",
      "key: o Value: 7\n",
      "key: 6 Value: 7\n",
      "key: i Value: 7\n",
      "key: A Value: 7\n",
      "key: D Value: 7\n",
      "key: L Value: 6\n",
      "key: c Value: 6\n",
      "key: v Value: 6\n",
      "key: 2 Value: 6\n",
      "key: T Value: 6\n",
      "key: 8 Value: 6\n",
      "key: r Value: 6\n",
      "key: y Value: 6\n",
      "key: 1 Value: 6\n",
      "key: m Value: 5\n",
      "key: N Value: 5\n",
      "key: H Value: 5\n",
      "key: G Value: 5\n",
      "key: V Value: 5\n",
      "key: F Value: 5\n",
      "key: R Value: 5\n",
      "key: W Value: 4\n",
      "key: l Value: 4\n",
      "key: Z Value: 4\n",
      "key: t Value: 4\n",
      "key: 7 Value: 1\n",
      "key: J Value: 1\n"
     ]
    }
   ],
   "source": [
    "for key, value in D.items():\n",
    "    print(f\"key: {key} Value: {value}\")"
   ]
  }
 ],
 "metadata": {
  "kernelspec": {
   "display_name": "Python 3 (ipykernel)",
   "language": "python",
   "name": "python3"
  },
  "language_info": {
   "codemirror_mode": {
    "name": "ipython",
    "version": 3
   },
   "file_extension": ".py",
   "mimetype": "text/x-python",
   "name": "python",
   "nbconvert_exporter": "python",
   "pygments_lexer": "ipython3",
   "version": "3.11.4"
  }
 },
 "nbformat": 4,
 "nbformat_minor": 5
}
